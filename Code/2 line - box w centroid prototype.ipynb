{
 "cells": [
  {
   "cell_type": "code",
   "execution_count": 58,
   "metadata": {},
   "outputs": [],
   "source": [
    "import cv2\n",
    "import numpy as np"
   ]
  },
  {
   "cell_type": "code",
   "execution_count": 59,
   "metadata": {},
   "outputs": [],
   "source": [
    "def people_counter(gray):\n",
    "    global i, centroid\n",
    "    counts = []\n",
    "    prev_centroids = []\n",
    "    prev_directions = []\n",
    "\n",
    "    hog = cv2.HOGDescriptor()\n",
    "    hog.setSVMDetector(cv2.HOGDescriptor_getDefaultPeopleDetector())\n",
    "    rects, _ = hog.detectMultiScale(gray, winStride=(4, 4), padding=(8, 8), scale=1.05)\n",
    "\n",
    "    for i, (x, y, w, h) in enumerate(rects):\n",
    "        centroid = (int(x + w/2), int(y + h/2))\n",
    "        \n",
    "        # Draw contour and centroid on frame\n",
    "        cv2.rectangle(frame, (x, y), (x + w, y + h), (0, 255, 0), 2)\n",
    "        cv2.circle(frame, centroid, 5, (0, 0, 255), -1)    \n",
    "\n",
    "        # Check if previous centroid exists for this contour\n",
    "        if len(prev_centroids) > i and prev_centroids[i] is not None:\n",
    "            # Check if current centroid has crossed line 1\n",
    "            if (prev_centroids[i][0] <= line_pos < centroid[0]) or (\n",
    "                    prev_centroids[i][0] >= line_pos > centroid[0]):\n",
    "                # Check if current centroid has crossed line 2\n",
    "                if (prev_centroids[i][0] <= line_pos2 < centroid[0]) or (\n",
    "                        prev_centroids[i][0] >= line_pos2 > centroid[0]):\n",
    "                    # Check if centroid crossed from left to right\n",
    "                    if prev_centroids[i][0] < line_pos and centroid[0] > line_pos2:\n",
    "                        counts[i] += 1\n",
    "                        break\n",
    "                    # Check if centroid crossed from right to left\n",
    "                    elif prev_centroids[i][0] > line_pos2 and centroid[0] < line_pos:\n",
    "                        counts[i] -= 1\n",
    "                        break\n",
    "                    \n",
    "                    \n",
    "            \n",
    "\n",
    "        # Add new contour's centroid and direction to the lists\n",
    "        else:\n",
    "            prev_directions.append(None)\n",
    "            prev_centroids.append(centroid)\n",
    "            counts.append(0)\n",
    "\n"
   ]
  },
  {
   "cell_type": "code",
   "execution_count": 60,
   "metadata": {},
   "outputs": [],
   "source": [
    "def frame_processing():\n",
    "    global contours\n",
    "    gray = cv2.cvtColor(frame, cv2.COLOR_BGR2GRAY)\n",
    "    return gray"
   ]
  },
  {
   "cell_type": "code",
   "execution_count": 61,
   "metadata": {},
   "outputs": [],
   "source": [
    "def display_frame():\n",
    "    # Draw lines on frame\n",
    "    cv2.line(frame, (line_pos, 0), (line_pos, frame.shape[0]), (0, 0, 255), 2)\n",
    "    cv2.line(frame, (line_pos2, 0), (line_pos2, frame.shape[0]), (255, 0, 0), 2)\n",
    "    # Draw count for each contour on frame\n",
    "    cv2.putText(frame, \"Count: {}\".format(sum(counts)), (10, 30 + 30 * i), font, font_scale, font_color, line_type)\n",
    "    # Display frame\n",
    "    cv2.imshow(\"Train Counter\", frame)"
   ]
  },
  {
   "cell_type": "code",
   "execution_count": 62,
   "metadata": {},
   "outputs": [],
   "source": [
    "def background_subtraction(frame):\n",
    "    fgmask = fgbg.apply(frame)\n",
    "    return cv2.bitwise_and(frame, frame, mask=fgmask)"
   ]
  },
  {
   "cell_type": "code",
   "execution_count": 63,
   "metadata": {},
   "outputs": [],
   "source": [
    "def __main__():\n",
    "    global frame\n",
    "    while True:\n",
    "        # Read frame from video capture\n",
    "        ret, frame = cap.read()\n",
    "        # Check if frame was successfully read\n",
    "        if not ret:\n",
    "            print(\"Error reading frame from video stream\")\n",
    "            break\n",
    "        # Apply background subtraction\n",
    "        # frame = background_subtraction(frame)\n",
    "        # fgbg = cv2.createBackgroundSubtractorMOG2()\n",
    "        \n",
    "        # Convert frame to grayscale and apply Gaussian blur\n",
    "        # gray = frame_processing()\n",
    "        \n",
    "        gray = cv2.cvtColor(frame, cv2.COLOR_BGR2GRAY)\n",
    "        \n",
    "        \n",
    "        # Process each contour\n",
    "        people_counter(gray)\n",
    "        # Display frames\n",
    "        display_frame()\n",
    "        # Wait for key press and limit frame rate to 15 fps\n",
    "        if cv2.waitKey(33) & 0xFF == ord('q'):\n",
    "            break\n",
    "        # Update previous centroid\n",
    "        prev_centroid = centroid\n",
    "    # Release video capture and destroy all windows\n",
    "    cap.release()\n",
    "    cv2.destroyAllWindows()"
   ]
  },
  {
   "cell_type": "code",
   "execution_count": 64,
   "metadata": {},
   "outputs": [],
   "source": [
    "cv2.startWindowThread()\n",
    "\n",
    "# Create video capture object\n",
    "cap = cv2.VideoCapture(\"../test_footage.mp4\")\n",
    "\n",
    "# Define font settings for text overlay\n",
    "font = cv2.FONT_HERSHEY_SIMPLEX\n",
    "font_scale = 1\n",
    "font_color = (255, 255, 255)\n",
    "line_type = 2\n",
    "\n",
    "# Initialize variables\n",
    "prev_directions = []\n",
    "prev_centroids = []\n",
    "counts = []\n",
    "line_pos = int(cap.get(cv2.CAP_PROP_FRAME_WIDTH) / 2)\n",
    "line_pos2 = int((cap.get(cv2.CAP_PROP_FRAME_WIDTH) / 2)+75)\n",
    "__main__()"
   ]
  }
 ],
 "metadata": {
  "kernelspec": {
   "display_name": "AI-D",
   "language": "python",
   "name": "python3"
  },
  "language_info": {
   "codemirror_mode": {
    "name": "ipython",
    "version": 3
   },
   "file_extension": ".py",
   "mimetype": "text/x-python",
   "name": "python",
   "nbconvert_exporter": "python",
   "pygments_lexer": "ipython3",
   "version": "3.9.15"
  },
  "orig_nbformat": 4,
  "vscode": {
   "interpreter": {
    "hash": "d343397dc27778dbb8e2ebae35818b6fcf9b0ec76fc940d47e3d1cbbc7c19c6c"
   }
  }
 },
 "nbformat": 4,
 "nbformat_minor": 2
}
