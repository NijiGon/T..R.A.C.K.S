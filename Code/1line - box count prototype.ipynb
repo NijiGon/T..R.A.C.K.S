{
 "cells": [
  {
   "cell_type": "code",
   "execution_count": 7,
   "metadata": {},
   "outputs": [],
   "source": [
    "import cv2\n",
    "import numpy as np\n",
    "\n",
    "# Buat garis virtual\n",
    "line_y = 200\n",
    "line_x = 0\n",
    "line_color = (0, 255, 0) # warna garis dalam format BGR\n",
    "line_thickness = 2\n",
    "\n",
    "def count_people(frame, line_y):\n",
    "    # Konversi ke grayscale\n",
    "    gray = cv2.cvtColor(frame, cv2.COLOR_BGR2GRAY)\n",
    "    \n",
    "    # deteksi tubuh hog powered\n",
    "    hog = cv2.HOGDescriptor()\n",
    "    hog.setSVMDetector(cv2.HOGDescriptor_getDefaultPeopleDetector())\n",
    "    bodies, _ = hog.detectMultiScale(gray)\n",
    "    \n",
    "    # Gambar garis virtual\n",
    "    cv2.line(frame, (360,200 ), (0, 1300), line_color, line_thickness)\n",
    "    \n",
    "    # hitung lewat garus\n",
    "    num_people = 0\n",
    "    for (x, y, w, h) in bodies:\n",
    "        center_y = y + h // 2\n",
    "        if center_y > 200 - 5 and center_y < 1300 + 5:\n",
    "            num_people += 1\n",
    "        cv2.rectangle(frame, (x, y), (x+w, y+h), (0, 0, 255), 2) # Gambar kotak deteksi\n",
    "        \n",
    "    return frame, num_people\n",
    "\n",
    "# buka cam \n",
    "cap = cv2.VideoCapture(\"../train_boarding.mp4\")\n",
    "\n",
    "while True:\n",
    "    # ambil frame\n",
    "    ret, frame = cap.read()\n",
    "    \n",
    "    # gagal ambil frame\n",
    "    if not ret:\n",
    "        break\n",
    "    \n",
    "    # Proses frame utk itung\n",
    "    frame, num_people = count_people(frame, line_y)\n",
    "    \n",
    "    # display jml org\n",
    "    cv2.putText(frame, f\"Jumlah orang: {num_people}\", (10, 30), cv2.FONT_HERSHEY_SIMPLEX, 1, (0, 0, 255), 2)\n",
    "    \n",
    "    # display frame\n",
    "    cv2.imshow(\"Webcam\", frame)\n",
    "    \n",
    "    # exit\n",
    "    if cv2.waitKey(1) == ord(\"q\"):\n",
    "        break\n",
    "\n",
    "# Tutup webcam dan jendela tampilan\n",
    "cap.release()\n",
    "cv2.destroyAllWindows()"
   ]
  }
 ],
 "metadata": {
  "kernelspec": {
   "display_name": "AI-D",
   "language": "python",
   "name": "python3"
  },
  "language_info": {
   "codemirror_mode": {
    "name": "ipython",
    "version": 3
   },
   "file_extension": ".py",
   "mimetype": "text/x-python",
   "name": "python",
   "nbconvert_exporter": "python",
   "pygments_lexer": "ipython3",
   "version": "3.9.15"
  },
  "orig_nbformat": 4,
  "vscode": {
   "interpreter": {
    "hash": "d343397dc27778dbb8e2ebae35818b6fcf9b0ec76fc940d47e3d1cbbc7c19c6c"
   }
  }
 },
 "nbformat": 4,
 "nbformat_minor": 2
}
